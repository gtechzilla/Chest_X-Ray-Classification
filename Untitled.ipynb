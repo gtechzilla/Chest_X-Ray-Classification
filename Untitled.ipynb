{
 "cells": [
  {
   "cell_type": "code",
   "execution_count": 1,
   "metadata": {},
   "outputs": [],
   "source": [
    "#importing the required libraries\n",
    "import os\n",
    "import shutil\n",
    "import random\n",
    "import torch\n",
    "import torchvision\n",
    "import numpy as np\n",
    "from PIL import Image\n",
    "from matplotlib import pyplot as plt\n",
    "from sklearn.model_selection import train_test_split"
   ]
  },
  {
   "cell_type": "markdown",
   "metadata": {},
   "source": [
    "# Defining our data paths"
   ]
  },
  {
   "cell_type": "code",
   "execution_count": 2,
   "metadata": {},
   "outputs": [],
   "source": [
    "root_dir = \"data/\"\n",
    "source_dirs = [\"NORMAL\", \"Viral Pnemuonia\", \"COVID-19\"]"
   ]
  },
  {
   "cell_type": "code",
   "execution_count": 3,
   "metadata": {},
   "outputs": [],
   "source": [
    "#creating a class that will fetch and preprocess our image data\n",
    "#this class inherits from the torch.utils.Dataset\n",
    "\n",
    "class ChestXrayDataset(torch.utils.data.Dataset):\n",
    "    def __init__(self,image_dirs,transform):\n",
    "        #method to get all our images from all the source folder \n",
    "        def get_images(class_name):\n",
    "            images = [x for x in os.listdir(image_dirs[class_name])]\n",
    "            #display the number of images in the given class\n",
    "            print(f'Found {len(images)} {class_name} examples')\n",
    "            return images\n",
    "        \n",
    "        #Dictionarry that will store our class categories an images for each class\n",
    "        self.images = {}\n",
    "        \n",
    "        #defining a list with our class names\n",
    "        self.class_names = ['normal', 'viral', 'covid']\n",
    "        \n",
    "        #storing our images in a dictionary depending on their class\n",
    "        for class_name in self.class_names:\n",
    "            self.images[class_name] = get_images(class_name)\n",
    "            \n",
    "        self.image_dirs = image_dirs\n",
    "        self.transform = transform\n",
    "        \n",
    "    def __len__(self):\n",
    "        #method to count the number of images in each class\n",
    "        return sum([len(self.images[class_name]) for class_name in self.class_names])\n",
    "    \n",
    "    def __getitem__(self,index):\n",
    "        #method to display a random image from our dataset\n",
    "        class_name = random.choice(self.class_names)\n",
    "        index = index %len(self.images[class_name])\n",
    "        image_name = self.images[class_name][index]\n",
    "        image_path = os.path.join(self.image_dirs[class_name],image_name)\n",
    "        image = Image.open(image_path).convert('RGB')\n",
    "        return self.transform(image), self.class_names.index(class_name)"
   ]
  },
  {
   "cell_type": "code",
   "execution_count": 4,
   "metadata": {},
   "outputs": [],
   "source": [
    "#defining our transform objects\n",
    "train_transform = torchvision.transforms.Compose([torchvision.transforms.Resize(size = (300,300)),\n",
    "                                                 torchvision.transforms.RandomHorizontalFlip(),\n",
    "                                                 torchvision.transforms.ToTensor(),\n",
    "                                                 torchvision.transforms.Normalize(mean = [0.485,0.456,0.406], std = [0.229, 0.224, 0.225])])\n",
    "\n",
    "test_transform = torchvision.transforms.Compose([torchvision.transforms.Resize(size = (300,300)),\n",
    "                                                torchvision.transforms.ToTensor(),\n",
    "                                                torchvision.transforms.Normalize(mean = [0.485,0.456,0.406], std = [0.229, 0.224, 0.225])])"
   ]
  },
  {
   "cell_type": "code",
   "execution_count": 5,
   "metadata": {},
   "outputs": [
    {
     "name": "stdout",
     "output_type": "stream",
     "text": [
      "Found 1341 normal examples\n",
      "Found 1345 viral examples\n",
      "Found 219 covid examples\n",
      "Length of Train set : 2324\n",
      "Length of Test set : 581\n"
     ]
    }
   ],
   "source": [
    "data_dirs = {\n",
    "    \"normal\" : 'data/NORMAL',\n",
    "    \"viral\"  : 'data/Viral Pneumonia',\n",
    "    \"covid\"  : 'data/COVID-19'\n",
    "}\n",
    "\n",
    "train_dataset = ChestXrayDataset(data_dirs,train_transform)\n",
    "\n",
    "train_data_size = 0.8\n",
    "\n",
    "train_size = int(train_data_size * len(train_dataset))\n",
    "test_size = len(train_dataset) - train_size\n",
    "\n",
    "train_dataset,test_dataset = torch.utils.data.random_split(train_dataset,[train_size,test_size])\n",
    "\n",
    "print(\"Length of Train set :\" ,len(train_dataset))\n",
    "print(\"Length of Test set :\" ,len(test_dataset))\n",
    "\n"
   ]
  },
  {
   "cell_type": "markdown",
   "metadata": {},
   "source": [
    "## Loading our data using the Dataloader's"
   ]
  },
  {
   "cell_type": "code",
   "execution_count": 6,
   "metadata": {},
   "outputs": [
    {
     "name": "stdout",
     "output_type": "stream",
     "text": [
      "Number of training batches  233\n",
      "Number of test batches  59\n"
     ]
    }
   ],
   "source": [
    "#defining our batch size\n",
    "batch_size = 10\n",
    "\n",
    "train_loader = torch.utils.data.DataLoader(train_dataset,batch_size = batch_size, shuffle = True)\n",
    "test_loader = torch.utils.data.DataLoader(test_dataset,batch_size = batch_size, shuffle=True)\n",
    "\n",
    "print(\"Number of training batches \", len(train_loader))\n",
    "print(\"Number of test batches \", len(test_loader))"
   ]
  },
  {
   "cell_type": "markdown",
   "metadata": {},
   "source": [
    "## Visualizing our images"
   ]
  },
  {
   "cell_type": "code",
   "execution_count": 8,
   "metadata": {},
   "outputs": [],
   "source": [
    "class_names = [\"normal\", \"viral\", \"covid\"]\n",
    "\n",
    "def show_images(images,labels,prediction):\n",
    "    plt.figure(figsize = (15,7))\n",
    "    for i,image in enumerate(images):\n",
    "        plt.subplot(1,11,i+1, xticks = [], yticks = [])\n",
    "        image = image.numpy().transpose((1,2,0))\n",
    "        mean = np.array([0.5, 0.5, 0.4])\n",
    "        std = np.array([0.2, 0.2, 2])\n",
    "        image = image*std + mean\n",
    "        image = np.clip(image,0.,1.)\n",
    "        plt.imshow(image)\n",
    "        \n",
    "        colorr = \"green\"\n",
    "        \n",
    "        if (prediction[i]) != labels[i]:\n",
    "            colorr = \"red\"\n",
    "            \n",
    "        plt.xlabel(f'{class_names[int(labels[i].numpy())]}')\n",
    "        plt.ylabel(f'{class_names[int(prediction[i].numpy())]}', color=colorr)\n",
    "    plt.tight_layout()\n",
    "    plt.show()"
   ]
  },
  {
   "cell_type": "code",
   "execution_count": 11,
   "metadata": {},
   "outputs": [
    {
     "ename": "NameError",
     "evalue": "name 'preds' is not defined",
     "output_type": "error",
     "traceback": [
      "\u001b[0;31m---------------------------------------------------------------------------\u001b[0m",
      "\u001b[0;31mNameError\u001b[0m                                 Traceback (most recent call last)",
      "\u001b[0;32m<ipython-input-11-ad5f6c9bf082>\u001b[0m in \u001b[0;36m<module>\u001b[0;34m\u001b[0m\n\u001b[1;32m      1\u001b[0m \u001b[0mimages\u001b[0m\u001b[0;34m,\u001b[0m \u001b[0mlabels\u001b[0m \u001b[0;34m=\u001b[0m \u001b[0mnext\u001b[0m\u001b[0;34m(\u001b[0m\u001b[0miter\u001b[0m\u001b[0;34m(\u001b[0m\u001b[0mtrain_loader\u001b[0m\u001b[0;34m)\u001b[0m\u001b[0;34m)\u001b[0m\u001b[0;34m\u001b[0m\u001b[0;34m\u001b[0m\u001b[0m\n\u001b[0;32m----> 2\u001b[0;31m \u001b[0mshow_images\u001b[0m\u001b[0;34m(\u001b[0m\u001b[0mimages\u001b[0m\u001b[0;34m,\u001b[0m\u001b[0mlabels\u001b[0m\u001b[0;34m,\u001b[0m\u001b[0mlabels\u001b[0m\u001b[0;34m)\u001b[0m\u001b[0;34m\u001b[0m\u001b[0;34m\u001b[0m\u001b[0m\n\u001b[0m",
      "\u001b[0;32m<ipython-input-8-7071451a9f3b>\u001b[0m in \u001b[0;36mshow_images\u001b[0;34m(images, labels, prediction)\u001b[0m\n\u001b[1;32m     18\u001b[0m \u001b[0;34m\u001b[0m\u001b[0m\n\u001b[1;32m     19\u001b[0m         \u001b[0mplt\u001b[0m\u001b[0;34m.\u001b[0m\u001b[0mxlabel\u001b[0m\u001b[0;34m(\u001b[0m\u001b[0;34mf'{class_names[int(labels[i].numpy())]}'\u001b[0m\u001b[0;34m)\u001b[0m\u001b[0;34m\u001b[0m\u001b[0;34m\u001b[0m\u001b[0m\n\u001b[0;32m---> 20\u001b[0;31m         \u001b[0mplt\u001b[0m\u001b[0;34m.\u001b[0m\u001b[0mylabel\u001b[0m\u001b[0;34m(\u001b[0m\u001b[0;34mf'{class_names[int(preds[i].numpy())]}'\u001b[0m\u001b[0;34m,\u001b[0m \u001b[0mcolor\u001b[0m\u001b[0;34m=\u001b[0m\u001b[0mcolorr\u001b[0m\u001b[0;34m)\u001b[0m\u001b[0;34m\u001b[0m\u001b[0;34m\u001b[0m\u001b[0m\n\u001b[0m\u001b[1;32m     21\u001b[0m     \u001b[0mplt\u001b[0m\u001b[0;34m.\u001b[0m\u001b[0mtight_layout\u001b[0m\u001b[0;34m(\u001b[0m\u001b[0;34m)\u001b[0m\u001b[0;34m\u001b[0m\u001b[0;34m\u001b[0m\u001b[0m\n\u001b[1;32m     22\u001b[0m     \u001b[0mplt\u001b[0m\u001b[0;34m.\u001b[0m\u001b[0mshow\u001b[0m\u001b[0;34m(\u001b[0m\u001b[0;34m)\u001b[0m\u001b[0;34m\u001b[0m\u001b[0;34m\u001b[0m\u001b[0m\n",
      "\u001b[0;31mNameError\u001b[0m: name 'preds' is not defined"
     ]
    },
    {
     "data": {
      "image/png": "[encoded data removed]",
      "text/plain": [
       "<Figure size 1080x504 with 1 Axes>"
      ]
     },
     "metadata": {},
     "output_type": "display_data"
    }
   ],
   "source": [
    "images, labels = next(iter(train_loader))\n",
    "show_images(images,labels,labels)"
   ]
  },
  {
   "cell_type": "code",
   "execution_count": null,
   "metadata": {},
   "outputs": [],
   "source": []
  }
 ],
 "metadata": {
  "kernelspec": {
   "display_name": "Python 3",
   "language": "python",
   "name": "python3"
  },
  "language_info": {
   "codemirror_mode": {
    "name": "ipython",
    "version": 3
   },
   "file_extension": ".py",
   "mimetype": "text/x-python",
   "name": "python",
   "nbconvert_exporter": "python",
   "pygments_lexer": "ipython3",
   "version": "3.8.5"
  }
 },
 "nbformat": 4,
 "nbformat_minor": 4
}
