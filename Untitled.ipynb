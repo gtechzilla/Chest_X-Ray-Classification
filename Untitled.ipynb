{
 "cells": [
  {
   "cell_type": "code",
   "execution_count": 3,
   "metadata": {},
   "outputs": [
    {
     "name": "stdout",
     "output_type": "stream",
     "text": [
      "Collecting matplotlib\n",
      "  Downloading matplotlib-3.3.3-cp38-cp38-manylinux1_x86_64.whl (11.6 MB)\n",
      "\u001b[K     |████████████████████████████████| 11.6 MB 472 kB/s eta 0:00:01\n",
      "\u001b[?25hRequirement already satisfied: pyparsing!=2.0.4,!=2.1.2,!=2.1.6,>=2.0.3 in /home/gerald/anaconda3/envs/covid_kaggle/lib/python3.8/site-packages (from matplotlib) (2.4.7)\n",
      "Requirement already satisfied: pillow>=6.2.0 in /home/gerald/anaconda3/envs/covid_kaggle/lib/python3.8/site-packages (from matplotlib) (8.0.1)\n",
      "Collecting kiwisolver>=1.0.1\n",
      "  Downloading kiwisolver-1.3.1-cp38-cp38-manylinux1_x86_64.whl (1.2 MB)\n",
      "\u001b[K     |████████████████████████████████| 1.2 MB 512 kB/s eta 0:00:01\n",
      "\u001b[?25hCollecting cycler>=0.10\n",
      "  Using cached cycler-0.10.0-py2.py3-none-any.whl (6.5 kB)\n",
      "Requirement already satisfied: numpy>=1.15 in /home/gerald/.local/lib/python3.8/site-packages (from matplotlib) (1.19.4)\n",
      "Requirement already satisfied: python-dateutil>=2.1 in /home/gerald/anaconda3/envs/covid_kaggle/lib/python3.8/site-packages (from matplotlib) (2.8.1)\n",
      "Requirement already satisfied: six in /home/gerald/anaconda3/envs/covid_kaggle/lib/python3.8/site-packages (from cycler>=0.10->matplotlib) (1.15.0)\n",
      "Installing collected packages: kiwisolver, cycler, matplotlib\n",
      "Successfully installed cycler-0.10.0 kiwisolver-1.3.1 matplotlib-3.3.3\n"
     ]
    }
   ],
   "source": [
    "#importing the required libraries\n",
    "import os\n",
    "import shutil\n",
    "import random\n",
    "import torch\n",
    "import torchvision\n",
    "import numpy as np\n",
    "from PIL import Image\n",
    "from matplotlib import pyplot as plt\n",
    "from sklearn.model_selection import train_test_split"
   ]
  },
  {
   "cell_type": "markdown",
   "metadata": {},
   "source": [
    "# Defining our data paths"
   ]
  },
  {
   "cell_type": "code",
   "execution_count": 5,
   "metadata": {},
   "outputs": [],
   "source": [
    "root_dir = \"./data/\"\n",
    "source_dirs = [\"NORMAL\", \"Viral Pnemuonia\", \"COVID-19\"]"
   ]
  },
  {
   "cell_type": "code",
   "execution_count": 6,
   "metadata": {},
   "outputs": [],
   "source": [
    "#creating a class that will fetch and preprocess our image data\n",
    "#this class inherits from the torch.utils.Dataset\n",
    "\n",
    "class ChestXrayDataset(torch.utils.data.Dataset):\n",
    "    def __init__(self,image_dirs,transform):\n",
    "        #method to get all our images from all the source folder \n",
    "        def get_images(class_name):\n",
    "            images = [x for x in os.listdir(image_dirs[class_name]) if x[-3:].lower().endswith('.png')]\n",
    "            #display the number of images in the given class\n",
    "            print(f'Found {len(images)} {class_name} examples')\n",
    "            return images\n",
    "        \n",
    "        #Dictionarry that will store our class categories an images for each class\n",
    "        self.images = {}\n",
    "        \n",
    "        #defining a list with our class names\n",
    "        self.class_names = ['normal', 'viral', 'covid']\n",
    "        \n",
    "        #storing our images in a dictionary depending on their class\n",
    "        for class_name in self.class_names:\n",
    "            self.images[class_name] = get_images(class_name)\n",
    "            \n",
    "        self.image_dirs = image_dirs\n",
    "        self.transform = transform\n",
    "        \n",
    "    def __len__(self):\n",
    "        #method to count the number of images in each class\n",
    "        return sum([len(self.images[class_name]) for class_name in self.class_names])\n",
    "    \n",
    "    def __getitem__(self,index):\n",
    "        #method to display a random image from our dataset\n",
    "        class_name = random.choice(self.class_names)\n",
    "        index = index %len(self.images[class_name])\n",
    "        image_name = self.images[class_name][index]\n",
    "        image_path = os.path.join(self.image_dirs[class_name],image_name)\n",
    "        image = Image.open(image_path).convert('RGB')\n",
    "        return self.transform(image), self.class_names.index(class_name)"
   ]
  },
  {
   "cell_type": "code",
   "execution_count": 7,
   "metadata": {},
   "outputs": [],
   "source": [
    "#defining our transform objects\n",
    "train_transform = torchvision.transforms.Compose([torchvision.transforms.Resize(size = (300,300)),\n",
    "                                                 torchvision.transforms.RandomHorizontalFlip(),\n",
    "                                                 torchvision.transforms.ToTensor(),\n",
    "                                                 torchvision.transforms.Normalize(mean = [0.485,0.456,0.406], std = [0.229, 0.224, 0.225])])\n",
    "\n",
    "test_transform = torchvision.transforms.Compose([torchvision.transforms.Resize(size = (300,300)),\n",
    "                                                torchvision.transforms.ToTensor(),\n",
    "                                                torchvision.transforms.Normalize(mean = [0.485,0.456,0.406], std = [0.229, 0.224, 0.225])])"
   ]
  },
  {
   "cell_type": "code",
   "execution_count": null,
   "metadata": {},
   "outputs": [],
   "source": []
  }
 ],
 "metadata": {
  "kernelspec": {
   "display_name": "Python 3",
   "language": "python",
   "name": "python3"
  },
  "language_info": {
   "codemirror_mode": {
    "name": "ipython",
    "version": 3
   },
   "file_extension": ".py",
   "mimetype": "text/x-python",
   "name": "python",
   "nbconvert_exporter": "python",
   "pygments_lexer": "ipython3",
   "version": "3.8.5"
  }
 },
 "nbformat": 4,
 "nbformat_minor": 4
}
